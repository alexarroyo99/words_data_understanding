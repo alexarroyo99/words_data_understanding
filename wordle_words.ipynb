{
  "nbformat": 4,
  "nbformat_minor": 0,
  "metadata": {
    "colab": {
      "name": "wordle_words.ipynb",
      "provenance": [],
      "collapsed_sections": [],
      "authorship_tag": "ABX9TyOYXQtvgkH3hTS8EokhAhpI",
      "include_colab_link": true
    },
    "kernelspec": {
      "name": "python3",
      "display_name": "Python 3"
    },
    "language_info": {
      "name": "python"
    }
  },
  "cells": [
    {
      "cell_type": "markdown",
      "metadata": {
        "id": "view-in-github",
        "colab_type": "text"
      },
      "source": [
        "<a href=\"https://colab.research.google.com/github/alexarroyo99/words_data_understanding/blob/main/wordle_words.ipynb\" target=\"_parent\"><img src=\"https://colab.research.google.com/assets/colab-badge.svg\" alt=\"Open In Colab\"/></a>"
      ]
    },
    {
      "cell_type": "markdown",
      "source": [
        "# **Obteniendo las longitudes de cada palabra**"
      ],
      "metadata": {
        "id": "bgtnAhZGizCr"
      }
    },
    {
      "cell_type": "code",
      "source": [
        "with open('/content/data/words_list.txt', 'r', encoding=\"utf8\") as text_file:\n",
        "  words_list = text_file.read().split('\\n')\n",
        "\n",
        "words_len_list=[len(w) for w in words_list]"
      ],
      "metadata": {
        "id": "N9TnwQkiklvp"
      },
      "execution_count": null,
      "outputs": []
    },
    {
      "cell_type": "markdown",
      "source": [
        "# **Obteniendo la posicion de las letras**"
      ],
      "metadata": {
        "id": "d_qn2yIq898X"
      }
    },
    {
      "cell_type": "code",
      "source": [
        "import string\n",
        "\n",
        "letters_list=list(string.ascii_lowercase+'ñ')\n",
        "letters_pos_dict={}\n",
        "for letter in letters_list:\n",
        "  letters_pos_dict[letter]=[]\n",
        "\n",
        "for word in words_list:\n",
        "  for letter in word:\n",
        "    letters_pos_dict[letter].append(int(word.index(letter)+1))\n"
      ],
      "metadata": {
        "id": "sU9QxRE90df4"
      },
      "execution_count": 87,
      "outputs": []
    },
    {
      "cell_type": "markdown",
      "source": [
        "# **Calculando medidas de tendencia central para longitudes de palabras**"
      ],
      "metadata": {
        "id": "SgNG5MjI1Mqn"
      }
    },
    {
      "cell_type": "code",
      "source": [
        "import numpy as np\n",
        "from scipy import stats\n",
        "\n",
        "\n",
        "words_len_array= np.array(words_len_list)\n",
        "array_mode= stats.mode(words_len_array)\n",
        "print(f\"Media: {words_len_array.mean():.2f}\")\n",
        "print(f\"Mediana: {np.median(words_len_array)}\")\n",
        "print(f\"Moda: {array_mode[0][0]}\")\n"
      ],
      "metadata": {
        "colab": {
          "base_uri": "https://localhost:8080/"
        },
        "id": "iwKV6xQI1VUA",
        "outputId": "a39f9be9-a8fb-4fc7-c76a-92d0c1b35641"
      },
      "execution_count": 88,
      "outputs": [
        {
          "output_type": "stream",
          "name": "stdout",
          "text": [
            "Media: 8.48\n",
            "Mediana: 8.0\n",
            "Moda: 8\n"
          ]
        }
      ]
    },
    {
      "cell_type": "markdown",
      "source": [
        "# **Calculando las medidas de posicionamiento estadistico y medidas de dispersion**"
      ],
      "metadata": {
        "id": "kIS7edTD8lkw"
      }
    },
    {
      "cell_type": "code",
      "source": [
        "import statistics\n",
        "from numpy import var\n",
        "Q1=int(np.percentile(words_len_array,25))\n",
        "Q2=int(np.median(words_len_array))\n",
        "Q3=int(np.percentile(words_len_array,75))\n",
        "P90=int(np.percentile(words_len_array,90))\n",
        "\n",
        "print(\"LONGITUD DE PALABRAS\")\n",
        "print(\"____________________\")\n",
        "print(f\"Cuartil 1: {Q1}\")\n",
        "print(f\"Cuartil 2: {Q2}\")\n",
        "print(f\"Cuartil 3: {Q3}\")\n",
        "print(f\"Percentil 90: {P90}\")\n",
        "print(f\"Rango: {Q3-Q1}\")\n",
        "print(f\"Varianza: {var(words_len_array):.2f}\")\n",
        "print(f\"Desviacion estandar: {statistics.pstdev(words_len_array):.2f}\\n\")\n",
        "print(\"DISTRIBUCION DE POSICION DE LETRAS\")\n",
        "print(\"__________________________________\")\n",
        "for key in letters_pos_dict.keys():\n",
        "  print(f\"**{key.upper()}**\")\n",
        "  letter_pos_array=np.array(letters_pos_dict[key])\n",
        "  Q1_l=int(np.percentile(letter_pos_array,25))\n",
        "  Q3_l=int(np.percentile(letter_pos_array,75))\n",
        "  print(f\"Cuartil 1: {Q1_l}\")\n",
        "  print(f\"Cuartil 2: {int(np.median(letter_pos_array))}\")\n",
        "  print(f\"Cuartil 3: {Q3_l}\")\n",
        "  print(f\"Rango: {Q3_l-Q1_l}\")\n",
        "  print(f\"Varianza: {var(letter_pos_array):.2f}\")\n",
        "  print(f\"Desviacion estandar: {statistics.pstdev(letter_pos_array):.2f}\")\n",
        "\n"
      ],
      "metadata": {
        "colab": {
          "base_uri": "https://localhost:8080/"
        },
        "id": "WfbQMsmGXhDU",
        "outputId": "7fd45e55-9774-4ade-8b95-46f26f24d168"
      },
      "execution_count": 129,
      "outputs": [
        {
          "output_type": "stream",
          "name": "stdout",
          "text": [
            "LONGITUD DE PALABRAS\n",
            "____________________\n",
            "Cuartil 1: 7\n",
            "Cuartil 2: 8\n",
            "Cuartil 3: 10\n",
            "Percentil 90: 12\n",
            "Rango: 3\n",
            "Varianza: 6.83\n",
            "Desviacion estandar: 2.45\n",
            "\n",
            "DISTRIBUCION DE POSICION DE LETRAS\n",
            "__________________________________\n",
            "**A**\n",
            "Cuartil 1: 2\n",
            "Cuartil 2: 4\n",
            "Cuartil 3: 6\n",
            "Rango: 4\n",
            "Varianza: 7.70\n",
            "Desviacion estandar: 2.65\n",
            "**B**\n",
            "Cuartil 1: 1\n",
            "Cuartil 2: 3\n",
            "Cuartil 3: 6\n",
            "Rango: 5\n",
            "Varianza: 6.90\n",
            "Desviacion estandar: 2.45\n",
            "**C**\n",
            "Cuartil 1: 1\n",
            "Cuartil 2: 3\n",
            "Cuartil 3: 6\n",
            "Rango: 5\n",
            "Varianza: 7.67\n",
            "Desviacion estandar: 2.65\n",
            "**D**\n",
            "Cuartil 1: 1\n",
            "Cuartil 2: 5\n",
            "Cuartil 3: 7\n",
            "Rango: 6\n",
            "Varianza: 9.66\n",
            "Desviacion estandar: 3.00\n",
            "**E**\n",
            "Cuartil 1: 2\n",
            "Cuartil 2: 3\n",
            "Cuartil 3: 5\n",
            "Rango: 3\n",
            "Varianza: 5.93\n",
            "Desviacion estandar: 2.24\n",
            "**F**\n",
            "Cuartil 1: 1\n",
            "Cuartil 2: 3\n",
            "Cuartil 3: 5\n",
            "Rango: 4\n",
            "Varianza: 5.63\n",
            "Desviacion estandar: 2.24\n",
            "**G**\n",
            "Cuartil 1: 2\n",
            "Cuartil 2: 4\n",
            "Cuartil 3: 5\n",
            "Rango: 3\n",
            "Varianza: 5.59\n",
            "Desviacion estandar: 2.24\n",
            "**H**\n",
            "Cuartil 1: 1\n",
            "Cuartil 2: 2\n",
            "Cuartil 3: 4\n",
            "Rango: 3\n",
            "Varianza: 5.25\n",
            "Desviacion estandar: 2.24\n",
            "**I**\n",
            "Cuartil 1: 2\n",
            "Cuartil 2: 4\n",
            "Cuartil 3: 6\n",
            "Rango: 4\n",
            "Varianza: 5.89\n",
            "Desviacion estandar: 2.24\n",
            "**J**\n",
            "Cuartil 1: 1\n",
            "Cuartil 2: 3\n",
            "Cuartil 3: 5\n",
            "Rango: 4\n",
            "Varianza: 5.03\n",
            "Desviacion estandar: 2.24\n",
            "**K**\n",
            "Cuartil 1: 1\n",
            "Cuartil 2: 4\n",
            "Cuartil 3: 5\n",
            "Rango: 4\n",
            "Varianza: 6.30\n",
            "Desviacion estandar: 2.45\n",
            "**L**\n",
            "Cuartil 1: 3\n",
            "Cuartil 2: 4\n",
            "Cuartil 3: 6\n",
            "Rango: 3\n",
            "Varianza: 6.95\n",
            "Desviacion estandar: 2.45\n",
            "**M**\n",
            "Cuartil 1: 1\n",
            "Cuartil 2: 3\n",
            "Cuartil 3: 5\n",
            "Rango: 4\n",
            "Varianza: 7.31\n",
            "Desviacion estandar: 2.65\n",
            "**N**\n",
            "Cuartil 1: 3\n",
            "Cuartil 2: 4\n",
            "Cuartil 3: 7\n",
            "Rango: 4\n",
            "Varianza: 7.74\n",
            "Desviacion estandar: 2.65\n",
            "**O**\n",
            "Cuartil 1: 2\n",
            "Cuartil 2: 4\n",
            "Cuartil 3: 7\n",
            "Rango: 5\n",
            "Varianza: 8.71\n",
            "Desviacion estandar: 2.83\n",
            "**P**\n",
            "Cuartil 1: 1\n",
            "Cuartil 2: 2\n",
            "Cuartil 3: 4\n",
            "Rango: 3\n",
            "Varianza: 3.56\n",
            "Desviacion estandar: 1.73\n",
            "**Q**\n",
            "Cuartil 1: 2\n",
            "Cuartil 2: 3\n",
            "Cuartil 3: 5\n",
            "Rango: 3\n",
            "Varianza: 4.42\n",
            "Desviacion estandar: 2.00\n",
            "**R**\n",
            "Cuartil 1: 2\n",
            "Cuartil 2: 3\n",
            "Cuartil 3: 5\n",
            "Rango: 3\n",
            "Varianza: 5.19\n",
            "Desviacion estandar: 2.24\n",
            "**S**\n",
            "Cuartil 1: 3\n",
            "Cuartil 2: 5\n",
            "Cuartil 3: 8\n",
            "Rango: 5\n",
            "Varianza: 11.66\n",
            "Desviacion estandar: 3.32\n",
            "**T**\n",
            "Cuartil 1: 3\n",
            "Cuartil 2: 4\n",
            "Cuartil 3: 6\n",
            "Rango: 3\n",
            "Varianza: 6.60\n",
            "Desviacion estandar: 2.45\n",
            "**U**\n",
            "Cuartil 1: 2\n",
            "Cuartil 2: 3\n",
            "Cuartil 3: 5\n",
            "Rango: 3\n",
            "Varianza: 4.15\n",
            "Desviacion estandar: 2.00\n",
            "**V**\n",
            "Cuartil 1: 1\n",
            "Cuartil 2: 4\n",
            "Cuartil 3: 6\n",
            "Rango: 5\n",
            "Varianza: 7.06\n",
            "Desviacion estandar: 2.65\n",
            "**W**\n",
            "Cuartil 1: 1\n",
            "Cuartil 2: 2\n",
            "Cuartil 3: 4\n",
            "Rango: 3\n",
            "Varianza: 4.59\n",
            "Desviacion estandar: 2.00\n",
            "**X**\n",
            "Cuartil 1: 2\n",
            "Cuartil 2: 2\n",
            "Cuartil 3: 3\n",
            "Rango: 1\n",
            "Varianza: 2.42\n",
            "Desviacion estandar: 1.41\n",
            "**Y**\n",
            "Cuartil 1: 3\n",
            "Cuartil 2: 5\n",
            "Cuartil 3: 6\n",
            "Rango: 3\n",
            "Varianza: 5.79\n",
            "Desviacion estandar: 2.24\n",
            "**Z**\n",
            "Cuartil 1: 4\n",
            "Cuartil 2: 6\n",
            "Cuartil 3: 8\n",
            "Rango: 4\n",
            "Varianza: 7.14\n",
            "Desviacion estandar: 2.65\n",
            "**Ñ**\n",
            "Cuartil 1: 3\n",
            "Cuartil 2: 5\n",
            "Cuartil 3: 6\n",
            "Rango: 3\n",
            "Varianza: 3.86\n",
            "Desviacion estandar: 1.73\n"
          ]
        }
      ]
    },
    {
      "cell_type": "markdown",
      "source": [
        "# **Calculando frecuencias**"
      ],
      "metadata": {
        "id": "CvwwDdSdJHNs"
      }
    },
    {
      "cell_type": "markdown",
      "source": [
        "Frecuencia de la distribucion de letras\n",
        "\n",
        "---\n",
        "\n"
      ],
      "metadata": {
        "id": "GywJOq3GJRdU"
      }
    },
    {
      "cell_type": "code",
      "source": [
        "import pandas as pd\n",
        "letter_pos_indexes=[i for i in range(1,21)]\n",
        "letters_pos_frec_dict={\"pos\":letter_pos_indexes}\n",
        "for letter in letters_list:\n",
        "  letters_pos_frec_dict[letter]=[0]*20\n",
        "\n",
        "for key in letters_pos_frec_dict.keys():\n",
        "  if key =='pos':\n",
        "    continue\n",
        "  for pos in range(1,21):\n",
        "    counter=letters_pos_dict[key].count(pos)\n",
        "    letters_pos_frec_dict[key][pos-1]=counter\n",
        "letters_pos_frec_df=pd.DataFrame(letters_pos_frec_dict)\n",
        "\n",
        "letters_pos_frec_df.style.hide_index()\n"
      ],
      "metadata": {
        "colab": {
          "base_uri": "https://localhost:8080/",
          "height": 677
        },
        "id": "U0vJk6k5mQ_1",
        "outputId": "1e2aba14-8a20-45fa-8a21-247bc738232f"
      },
      "execution_count": 123,
      "outputs": [
        {
          "output_type": "execute_result",
          "data": {
            "text/plain": [
              "<pandas.io.formats.style.Styler at 0x7f16cfd35690>"
            ],
            "text/html": [
              "<style type=\"text/css\">\n",
              "</style>\n",
              "<table id=\"T_ad2bf_\" class=\"dataframe\">\n",
              "  <thead>\n",
              "    <tr>\n",
              "      <th class=\"col_heading level0 col0\" >pos</th>\n",
              "      <th class=\"col_heading level0 col1\" >a</th>\n",
              "      <th class=\"col_heading level0 col2\" >b</th>\n",
              "      <th class=\"col_heading level0 col3\" >c</th>\n",
              "      <th class=\"col_heading level0 col4\" >d</th>\n",
              "      <th class=\"col_heading level0 col5\" >e</th>\n",
              "      <th class=\"col_heading level0 col6\" >f</th>\n",
              "      <th class=\"col_heading level0 col7\" >g</th>\n",
              "      <th class=\"col_heading level0 col8\" >h</th>\n",
              "      <th class=\"col_heading level0 col9\" >i</th>\n",
              "      <th class=\"col_heading level0 col10\" >j</th>\n",
              "      <th class=\"col_heading level0 col11\" >k</th>\n",
              "      <th class=\"col_heading level0 col12\" >l</th>\n",
              "      <th class=\"col_heading level0 col13\" >m</th>\n",
              "      <th class=\"col_heading level0 col14\" >n</th>\n",
              "      <th class=\"col_heading level0 col15\" >o</th>\n",
              "      <th class=\"col_heading level0 col16\" >p</th>\n",
              "      <th class=\"col_heading level0 col17\" >q</th>\n",
              "      <th class=\"col_heading level0 col18\" >r</th>\n",
              "      <th class=\"col_heading level0 col19\" >s</th>\n",
              "      <th class=\"col_heading level0 col20\" >t</th>\n",
              "      <th class=\"col_heading level0 col21\" >u</th>\n",
              "      <th class=\"col_heading level0 col22\" >v</th>\n",
              "      <th class=\"col_heading level0 col23\" >w</th>\n",
              "      <th class=\"col_heading level0 col24\" >x</th>\n",
              "      <th class=\"col_heading level0 col25\" >y</th>\n",
              "      <th class=\"col_heading level0 col26\" >z</th>\n",
              "      <th class=\"col_heading level0 col27\" >ñ</th>\n",
              "    </tr>\n",
              "  </thead>\n",
              "  <tbody>\n",
              "    <tr>\n",
              "      <td id=\"T_ad2bf_row0_col0\" class=\"data row0 col0\" >1</td>\n",
              "      <td id=\"T_ad2bf_row0_col1\" class=\"data row0 col1\" >6713</td>\n",
              "      <td id=\"T_ad2bf_row0_col2\" class=\"data row0 col2\" >1224</td>\n",
              "      <td id=\"T_ad2bf_row0_col3\" class=\"data row0 col3\" >5005</td>\n",
              "      <td id=\"T_ad2bf_row0_col4\" class=\"data row0 col4\" >2959</td>\n",
              "      <td id=\"T_ad2bf_row0_col5\" class=\"data row0 col5\" >4244</td>\n",
              "      <td id=\"T_ad2bf_row0_col6\" class=\"data row0 col6\" >1168</td>\n",
              "      <td id=\"T_ad2bf_row0_col7\" class=\"data row0 col7\" >962</td>\n",
              "      <td id=\"T_ad2bf_row0_col8\" class=\"data row0 col8\" >944</td>\n",
              "      <td id=\"T_ad2bf_row0_col9\" class=\"data row0 col9\" >3093</td>\n",
              "      <td id=\"T_ad2bf_row0_col10\" class=\"data row0 col10\" >336</td>\n",
              "      <td id=\"T_ad2bf_row0_col11\" class=\"data row0 col11\" >252</td>\n",
              "      <td id=\"T_ad2bf_row0_col12\" class=\"data row0 col12\" >1227</td>\n",
              "      <td id=\"T_ad2bf_row0_col13\" class=\"data row0 col13\" >2077</td>\n",
              "      <td id=\"T_ad2bf_row0_col14\" class=\"data row0 col14\" >932</td>\n",
              "      <td id=\"T_ad2bf_row0_col15\" class=\"data row0 col15\" >1214</td>\n",
              "      <td id=\"T_ad2bf_row0_col16\" class=\"data row0 col16\" >3223</td>\n",
              "      <td id=\"T_ad2bf_row0_col17\" class=\"data row0 col17\" >135</td>\n",
              "      <td id=\"T_ad2bf_row0_col18\" class=\"data row0 col18\" >2841</td>\n",
              "      <td id=\"T_ad2bf_row0_col19\" class=\"data row0 col19\" >3180</td>\n",
              "      <td id=\"T_ad2bf_row0_col20\" class=\"data row0 col20\" >1794</td>\n",
              "      <td id=\"T_ad2bf_row0_col21\" class=\"data row0 col21\" >297</td>\n",
              "      <td id=\"T_ad2bf_row0_col22\" class=\"data row0 col22\" >882</td>\n",
              "      <td id=\"T_ad2bf_row0_col23\" class=\"data row0 col23\" >170</td>\n",
              "      <td id=\"T_ad2bf_row0_col24\" class=\"data row0 col24\" >35</td>\n",
              "      <td id=\"T_ad2bf_row0_col25\" class=\"data row0 col25\" >79</td>\n",
              "      <td id=\"T_ad2bf_row0_col26\" class=\"data row0 col26\" >88</td>\n",
              "      <td id=\"T_ad2bf_row0_col27\" class=\"data row0 col27\" >2</td>\n",
              "    </tr>\n",
              "    <tr>\n",
              "      <td id=\"T_ad2bf_row1_col0\" class=\"data row1 col0\" >2</td>\n",
              "      <td id=\"T_ad2bf_row1_col1\" class=\"data row1 col1\" >8137</td>\n",
              "      <td id=\"T_ad2bf_row1_col2\" class=\"data row1 col2\" >378</td>\n",
              "      <td id=\"T_ad2bf_row1_col3\" class=\"data row1 col3\" >698</td>\n",
              "      <td id=\"T_ad2bf_row1_col4\" class=\"data row1 col4\" >478</td>\n",
              "      <td id=\"T_ad2bf_row1_col5\" class=\"data row1 col5\" >9363</td>\n",
              "      <td id=\"T_ad2bf_row1_col6\" class=\"data row1 col6\" >182</td>\n",
              "      <td id=\"T_ad2bf_row1_col7\" class=\"data row1 col7\" >237</td>\n",
              "      <td id=\"T_ad2bf_row1_col8\" class=\"data row1 col8\" >377</td>\n",
              "      <td id=\"T_ad2bf_row1_col9\" class=\"data row1 col9\" >4916</td>\n",
              "      <td id=\"T_ad2bf_row1_col10\" class=\"data row1 col10\" >77</td>\n",
              "      <td id=\"T_ad2bf_row1_col11\" class=\"data row1 col11\" >37</td>\n",
              "      <td id=\"T_ad2bf_row1_col12\" class=\"data row1 col12\" >1212</td>\n",
              "      <td id=\"T_ad2bf_row1_col13\" class=\"data row1 col13\" >680</td>\n",
              "      <td id=\"T_ad2bf_row1_col14\" class=\"data row1 col14\" >3318</td>\n",
              "      <td id=\"T_ad2bf_row1_col15\" class=\"data row1 col15\" >7223</td>\n",
              "      <td id=\"T_ad2bf_row1_col16\" class=\"data row1 col16\" >479</td>\n",
              "      <td id=\"T_ad2bf_row1_col17\" class=\"data row1 col17\" >61</td>\n",
              "      <td id=\"T_ad2bf_row1_col18\" class=\"data row1 col18\" >3797</td>\n",
              "      <td id=\"T_ad2bf_row1_col19\" class=\"data row1 col19\" >1491</td>\n",
              "      <td id=\"T_ad2bf_row1_col20\" class=\"data row1 col20\" >502</td>\n",
              "      <td id=\"T_ad2bf_row1_col21\" class=\"data row1 col21\" >2802</td>\n",
              "      <td id=\"T_ad2bf_row1_col22\" class=\"data row1 col22\" >177</td>\n",
              "      <td id=\"T_ad2bf_row1_col23\" class=\"data row1 col23\" >26</td>\n",
              "      <td id=\"T_ad2bf_row1_col24\" class=\"data row1 col24\" >458</td>\n",
              "      <td id=\"T_ad2bf_row1_col25\" class=\"data row1 col25\" >79</td>\n",
              "      <td id=\"T_ad2bf_row1_col26\" class=\"data row1 col26\" >50</td>\n",
              "      <td id=\"T_ad2bf_row1_col27\" class=\"data row1 col27\" >16</td>\n",
              "    </tr>\n",
              "    <tr>\n",
              "      <td id=\"T_ad2bf_row2_col0\" class=\"data row2 col0\" >3</td>\n",
              "      <td id=\"T_ad2bf_row2_col1\" class=\"data row2 col1\" >2811</td>\n",
              "      <td id=\"T_ad2bf_row2_col2\" class=\"data row2 col2\" >1006</td>\n",
              "      <td id=\"T_ad2bf_row2_col3\" class=\"data row2 col3\" >2379</td>\n",
              "      <td id=\"T_ad2bf_row2_col4\" class=\"data row2 col4\" >1169</td>\n",
              "      <td id=\"T_ad2bf_row2_col5\" class=\"data row2 col5\" >2674</td>\n",
              "      <td id=\"T_ad2bf_row2_col6\" class=\"data row2 col6\" >560</td>\n",
              "      <td id=\"T_ad2bf_row2_col7\" class=\"data row2 col7\" >912</td>\n",
              "      <td id=\"T_ad2bf_row2_col8\" class=\"data row2 col8\" >208</td>\n",
              "      <td id=\"T_ad2bf_row2_col9\" class=\"data row2 col9\" >2509</td>\n",
              "      <td id=\"T_ad2bf_row2_col10\" class=\"data row2 col10\" >196</td>\n",
              "      <td id=\"T_ad2bf_row2_col11\" class=\"data row2 col11\" >93</td>\n",
              "      <td id=\"T_ad2bf_row2_col12\" class=\"data row2 col12\" >2450</td>\n",
              "      <td id=\"T_ad2bf_row2_col13\" class=\"data row2 col13\" >1748</td>\n",
              "      <td id=\"T_ad2bf_row2_col14\" class=\"data row2 col14\" >4451</td>\n",
              "      <td id=\"T_ad2bf_row2_col15\" class=\"data row2 col15\" >2585</td>\n",
              "      <td id=\"T_ad2bf_row2_col16\" class=\"data row2 col16\" >1361</td>\n",
              "      <td id=\"T_ad2bf_row2_col17\" class=\"data row2 col17\" >158</td>\n",
              "      <td id=\"T_ad2bf_row2_col18\" class=\"data row2 col18\" >4348</td>\n",
              "      <td id=\"T_ad2bf_row2_col19\" class=\"data row2 col19\" >3312</td>\n",
              "      <td id=\"T_ad2bf_row2_col20\" class=\"data row2 col20\" >2914</td>\n",
              "      <td id=\"T_ad2bf_row2_col21\" class=\"data row2 col21\" >971</td>\n",
              "      <td id=\"T_ad2bf_row2_col22\" class=\"data row2 col22\" >628</td>\n",
              "      <td id=\"T_ad2bf_row2_col23\" class=\"data row2 col23\" >50</td>\n",
              "      <td id=\"T_ad2bf_row2_col24\" class=\"data row2 col24\" >107</td>\n",
              "      <td id=\"T_ad2bf_row2_col25\" class=\"data row2 col25\" >137</td>\n",
              "      <td id=\"T_ad2bf_row2_col26\" class=\"data row2 col26\" >191</td>\n",
              "      <td id=\"T_ad2bf_row2_col27\" class=\"data row2 col27\" >80</td>\n",
              "    </tr>\n",
              "    <tr>\n",
              "      <td id=\"T_ad2bf_row3_col0\" class=\"data row3 col0\" >4</td>\n",
              "      <td id=\"T_ad2bf_row3_col1\" class=\"data row3 col1\" >3829</td>\n",
              "      <td id=\"T_ad2bf_row3_col2\" class=\"data row3 col2\" >435</td>\n",
              "      <td id=\"T_ad2bf_row3_col3\" class=\"data row3 col3\" >1512</td>\n",
              "      <td id=\"T_ad2bf_row3_col4\" class=\"data row3 col4\" >1183</td>\n",
              "      <td id=\"T_ad2bf_row3_col5\" class=\"data row3 col5\" >3452</td>\n",
              "      <td id=\"T_ad2bf_row3_col6\" class=\"data row3 col6\" >387</td>\n",
              "      <td id=\"T_ad2bf_row3_col7\" class=\"data row3 col7\" >697</td>\n",
              "      <td id=\"T_ad2bf_row3_col8\" class=\"data row3 col8\" >325</td>\n",
              "      <td id=\"T_ad2bf_row3_col9\" class=\"data row3 col9\" >4395</td>\n",
              "      <td id=\"T_ad2bf_row3_col10\" class=\"data row3 col10\" >136</td>\n",
              "      <td id=\"T_ad2bf_row3_col11\" class=\"data row3 col11\" >161</td>\n",
              "      <td id=\"T_ad2bf_row3_col12\" class=\"data row3 col12\" >1428</td>\n",
              "      <td id=\"T_ad2bf_row3_col13\" class=\"data row3 col13\" >1090</td>\n",
              "      <td id=\"T_ad2bf_row3_col14\" class=\"data row3 col14\" >1740</td>\n",
              "      <td id=\"T_ad2bf_row3_col15\" class=\"data row3 col15\" >3080</td>\n",
              "      <td id=\"T_ad2bf_row3_col16\" class=\"data row3 col16\" >863</td>\n",
              "      <td id=\"T_ad2bf_row3_col17\" class=\"data row3 col17\" >107</td>\n",
              "      <td id=\"T_ad2bf_row3_col18\" class=\"data row3 col18\" >2283</td>\n",
              "      <td id=\"T_ad2bf_row3_col19\" class=\"data row3 col19\" >1717</td>\n",
              "      <td id=\"T_ad2bf_row3_col20\" class=\"data row3 col20\" >2886</td>\n",
              "      <td id=\"T_ad2bf_row3_col21\" class=\"data row3 col21\" >1348</td>\n",
              "      <td id=\"T_ad2bf_row3_col22\" class=\"data row3 col22\" >573</td>\n",
              "      <td id=\"T_ad2bf_row3_col23\" class=\"data row3 col23\" >42</td>\n",
              "      <td id=\"T_ad2bf_row3_col24\" class=\"data row3 col24\" >58</td>\n",
              "      <td id=\"T_ad2bf_row3_col25\" class=\"data row3 col25\" >113</td>\n",
              "      <td id=\"T_ad2bf_row3_col26\" class=\"data row3 col26\" >185</td>\n",
              "      <td id=\"T_ad2bf_row3_col27\" class=\"data row3 col27\" >15</td>\n",
              "    </tr>\n",
              "    <tr>\n",
              "      <td id=\"T_ad2bf_row4_col0\" class=\"data row4 col0\" >5</td>\n",
              "      <td id=\"T_ad2bf_row4_col1\" class=\"data row4 col1\" >3607</td>\n",
              "      <td id=\"T_ad2bf_row4_col2\" class=\"data row4 col2\" >446</td>\n",
              "      <td id=\"T_ad2bf_row4_col3\" class=\"data row4 col3\" >1334</td>\n",
              "      <td id=\"T_ad2bf_row4_col4\" class=\"data row4 col4\" >1010</td>\n",
              "      <td id=\"T_ad2bf_row4_col5\" class=\"data row4 col5\" >2902</td>\n",
              "      <td id=\"T_ad2bf_row4_col6\" class=\"data row4 col6\" >253</td>\n",
              "      <td id=\"T_ad2bf_row4_col7\" class=\"data row4 col7\" >528</td>\n",
              "      <td id=\"T_ad2bf_row4_col8\" class=\"data row4 col8\" >253</td>\n",
              "      <td id=\"T_ad2bf_row4_col9\" class=\"data row4 col9\" >3731</td>\n",
              "      <td id=\"T_ad2bf_row4_col10\" class=\"data row4 col10\" >130</td>\n",
              "      <td id=\"T_ad2bf_row4_col11\" class=\"data row4 col11\" >78</td>\n",
              "      <td id=\"T_ad2bf_row4_col12\" class=\"data row4 col12\" >1647</td>\n",
              "      <td id=\"T_ad2bf_row4_col13\" class=\"data row4 col13\" >661</td>\n",
              "      <td id=\"T_ad2bf_row4_col14\" class=\"data row4 col14\" >2399</td>\n",
              "      <td id=\"T_ad2bf_row4_col15\" class=\"data row4 col15\" >2476</td>\n",
              "      <td id=\"T_ad2bf_row4_col16\" class=\"data row4 col16\" >405</td>\n",
              "      <td id=\"T_ad2bf_row4_col17\" class=\"data row4 col17\" >69</td>\n",
              "      <td id=\"T_ad2bf_row4_col18\" class=\"data row4 col18\" >3361</td>\n",
              "      <td id=\"T_ad2bf_row4_col19\" class=\"data row4 col19\" >1601</td>\n",
              "      <td id=\"T_ad2bf_row4_col20\" class=\"data row4 col20\" >1853</td>\n",
              "      <td id=\"T_ad2bf_row4_col21\" class=\"data row4 col21\" >1123</td>\n",
              "      <td id=\"T_ad2bf_row4_col22\" class=\"data row4 col22\" >265</td>\n",
              "      <td id=\"T_ad2bf_row4_col23\" class=\"data row4 col23\" >36</td>\n",
              "      <td id=\"T_ad2bf_row4_col24\" class=\"data row4 col24\" >30</td>\n",
              "      <td id=\"T_ad2bf_row4_col25\" class=\"data row4 col25\" >115</td>\n",
              "      <td id=\"T_ad2bf_row4_col26\" class=\"data row4 col26\" >166</td>\n",
              "      <td id=\"T_ad2bf_row4_col27\" class=\"data row4 col27\" >68</td>\n",
              "    </tr>\n",
              "    <tr>\n",
              "      <td id=\"T_ad2bf_row5_col0\" class=\"data row5 col0\" >6</td>\n",
              "      <td id=\"T_ad2bf_row5_col1\" class=\"data row5 col1\" >2893</td>\n",
              "      <td id=\"T_ad2bf_row5_col2\" class=\"data row5 col2\" >352</td>\n",
              "      <td id=\"T_ad2bf_row5_col3\" class=\"data row5 col3\" >1280</td>\n",
              "      <td id=\"T_ad2bf_row5_col4\" class=\"data row5 col4\" >1260</td>\n",
              "      <td id=\"T_ad2bf_row5_col5\" class=\"data row5 col5\" >1677</td>\n",
              "      <td id=\"T_ad2bf_row5_col6\" class=\"data row5 col6\" >252</td>\n",
              "      <td id=\"T_ad2bf_row5_col7\" class=\"data row5 col7\" >485</td>\n",
              "      <td id=\"T_ad2bf_row5_col8\" class=\"data row5 col8\" >124</td>\n",
              "      <td id=\"T_ad2bf_row5_col9\" class=\"data row5 col9\" >2625</td>\n",
              "      <td id=\"T_ad2bf_row5_col10\" class=\"data row5 col10\" >111</td>\n",
              "      <td id=\"T_ad2bf_row5_col11\" class=\"data row5 col11\" >41</td>\n",
              "      <td id=\"T_ad2bf_row5_col12\" class=\"data row5 col12\" >1127</td>\n",
              "      <td id=\"T_ad2bf_row5_col13\" class=\"data row5 col13\" >675</td>\n",
              "      <td id=\"T_ad2bf_row5_col14\" class=\"data row5 col14\" >2312</td>\n",
              "      <td id=\"T_ad2bf_row5_col15\" class=\"data row5 col15\" >1905</td>\n",
              "      <td id=\"T_ad2bf_row5_col16\" class=\"data row5 col16\" >261</td>\n",
              "      <td id=\"T_ad2bf_row5_col17\" class=\"data row5 col17\" >45</td>\n",
              "      <td id=\"T_ad2bf_row5_col18\" class=\"data row5 col18\" >1904</td>\n",
              "      <td id=\"T_ad2bf_row5_col19\" class=\"data row5 col19\" >1678</td>\n",
              "      <td id=\"T_ad2bf_row5_col20\" class=\"data row5 col20\" >1803</td>\n",
              "      <td id=\"T_ad2bf_row5_col21\" class=\"data row5 col21\" >561</td>\n",
              "      <td id=\"T_ad2bf_row5_col22\" class=\"data row5 col22\" >292</td>\n",
              "      <td id=\"T_ad2bf_row5_col23\" class=\"data row5 col23\" >25</td>\n",
              "      <td id=\"T_ad2bf_row5_col24\" class=\"data row5 col24\" >25</td>\n",
              "      <td id=\"T_ad2bf_row5_col25\" class=\"data row5 col25\" >108</td>\n",
              "      <td id=\"T_ad2bf_row5_col26\" class=\"data row5 col26\" >262</td>\n",
              "      <td id=\"T_ad2bf_row5_col27\" class=\"data row5 col27\" >41</td>\n",
              "    </tr>\n",
              "    <tr>\n",
              "      <td id=\"T_ad2bf_row6_col0\" class=\"data row6 col0\" >7</td>\n",
              "      <td id=\"T_ad2bf_row6_col1\" class=\"data row6 col1\" >3151</td>\n",
              "      <td id=\"T_ad2bf_row6_col2\" class=\"data row6 col2\" >305</td>\n",
              "      <td id=\"T_ad2bf_row6_col3\" class=\"data row6 col3\" >842</td>\n",
              "      <td id=\"T_ad2bf_row6_col4\" class=\"data row6 col4\" >1118</td>\n",
              "      <td id=\"T_ad2bf_row6_col5\" class=\"data row6 col5\" >1097</td>\n",
              "      <td id=\"T_ad2bf_row6_col6\" class=\"data row6 col6\" >117</td>\n",
              "      <td id=\"T_ad2bf_row6_col7\" class=\"data row6 col7\" >251</td>\n",
              "      <td id=\"T_ad2bf_row6_col8\" class=\"data row6 col8\" >100</td>\n",
              "      <td id=\"T_ad2bf_row6_col9\" class=\"data row6 col9\" >2149</td>\n",
              "      <td id=\"T_ad2bf_row6_col10\" class=\"data row6 col10\" >45</td>\n",
              "      <td id=\"T_ad2bf_row6_col11\" class=\"data row6 col11\" >45</td>\n",
              "      <td id=\"T_ad2bf_row6_col12\" class=\"data row6 col12\" >754</td>\n",
              "      <td id=\"T_ad2bf_row6_col13\" class=\"data row6 col13\" >408</td>\n",
              "      <td id=\"T_ad2bf_row6_col14\" class=\"data row6 col14\" >1465</td>\n",
              "      <td id=\"T_ad2bf_row6_col15\" class=\"data row6 col15\" >2008</td>\n",
              "      <td id=\"T_ad2bf_row6_col16\" class=\"data row6 col16\" >150</td>\n",
              "      <td id=\"T_ad2bf_row6_col17\" class=\"data row6 col17\" >18</td>\n",
              "      <td id=\"T_ad2bf_row6_col18\" class=\"data row6 col18\" >1104</td>\n",
              "      <td id=\"T_ad2bf_row6_col19\" class=\"data row6 col19\" >1468</td>\n",
              "      <td id=\"T_ad2bf_row6_col20\" class=\"data row6 col20\" >1270</td>\n",
              "      <td id=\"T_ad2bf_row6_col21\" class=\"data row6 col21\" >471</td>\n",
              "      <td id=\"T_ad2bf_row6_col22\" class=\"data row6 col22\" >198</td>\n",
              "      <td id=\"T_ad2bf_row6_col23\" class=\"data row6 col23\" >16</td>\n",
              "      <td id=\"T_ad2bf_row6_col24\" class=\"data row6 col24\" >17</td>\n",
              "      <td id=\"T_ad2bf_row6_col25\" class=\"data row6 col25\" >80</td>\n",
              "      <td id=\"T_ad2bf_row6_col26\" class=\"data row6 col26\" >269</td>\n",
              "      <td id=\"T_ad2bf_row6_col27\" class=\"data row6 col27\" >37</td>\n",
              "    </tr>\n",
              "    <tr>\n",
              "      <td id=\"T_ad2bf_row7_col0\" class=\"data row7 col0\" >8</td>\n",
              "      <td id=\"T_ad2bf_row7_col1\" class=\"data row7 col1\" >2003</td>\n",
              "      <td id=\"T_ad2bf_row7_col2\" class=\"data row7 col2\" >222</td>\n",
              "      <td id=\"T_ad2bf_row7_col3\" class=\"data row7 col3\" >783</td>\n",
              "      <td id=\"T_ad2bf_row7_col4\" class=\"data row7 col4\" >1036</td>\n",
              "      <td id=\"T_ad2bf_row7_col5\" class=\"data row7 col5\" >761</td>\n",
              "      <td id=\"T_ad2bf_row7_col6\" class=\"data row7 col6\" >103</td>\n",
              "      <td id=\"T_ad2bf_row7_col7\" class=\"data row7 col7\" >191</td>\n",
              "      <td id=\"T_ad2bf_row7_col8\" class=\"data row7 col8\" >62</td>\n",
              "      <td id=\"T_ad2bf_row7_col9\" class=\"data row7 col9\" >1216</td>\n",
              "      <td id=\"T_ad2bf_row7_col10\" class=\"data row7 col10\" >30</td>\n",
              "      <td id=\"T_ad2bf_row7_col11\" class=\"data row7 col11\" >33</td>\n",
              "      <td id=\"T_ad2bf_row7_col12\" class=\"data row7 col12\" >602</td>\n",
              "      <td id=\"T_ad2bf_row7_col13\" class=\"data row7 col13\" >266</td>\n",
              "      <td id=\"T_ad2bf_row7_col14\" class=\"data row7 col14\" >1274</td>\n",
              "      <td id=\"T_ad2bf_row7_col15\" class=\"data row7 col15\" >1534</td>\n",
              "      <td id=\"T_ad2bf_row7_col16\" class=\"data row7 col16\" >43</td>\n",
              "      <td id=\"T_ad2bf_row7_col17\" class=\"data row7 col17\" >9</td>\n",
              "      <td id=\"T_ad2bf_row7_col18\" class=\"data row7 col18\" >892</td>\n",
              "      <td id=\"T_ad2bf_row7_col19\" class=\"data row7 col19\" >1326</td>\n",
              "      <td id=\"T_ad2bf_row7_col20\" class=\"data row7 col20\" >792</td>\n",
              "      <td id=\"T_ad2bf_row7_col21\" class=\"data row7 col21\" >228</td>\n",
              "      <td id=\"T_ad2bf_row7_col22\" class=\"data row7 col22\" >164</td>\n",
              "      <td id=\"T_ad2bf_row7_col23\" class=\"data row7 col23\" >4</td>\n",
              "      <td id=\"T_ad2bf_row7_col24\" class=\"data row7 col24\" >5</td>\n",
              "      <td id=\"T_ad2bf_row7_col25\" class=\"data row7 col25\" >59</td>\n",
              "      <td id=\"T_ad2bf_row7_col26\" class=\"data row7 col26\" >158</td>\n",
              "      <td id=\"T_ad2bf_row7_col27\" class=\"data row7 col27\" >16</td>\n",
              "    </tr>\n",
              "    <tr>\n",
              "      <td id=\"T_ad2bf_row8_col0\" class=\"data row8 col0\" >9</td>\n",
              "      <td id=\"T_ad2bf_row8_col1\" class=\"data row8 col1\" >1329</td>\n",
              "      <td id=\"T_ad2bf_row8_col2\" class=\"data row8 col2\" >151</td>\n",
              "      <td id=\"T_ad2bf_row8_col3\" class=\"data row8 col3\" >471</td>\n",
              "      <td id=\"T_ad2bf_row8_col4\" class=\"data row8 col4\" >707</td>\n",
              "      <td id=\"T_ad2bf_row8_col5\" class=\"data row8 col5\" >542</td>\n",
              "      <td id=\"T_ad2bf_row8_col6\" class=\"data row8 col6\" >33</td>\n",
              "      <td id=\"T_ad2bf_row8_col7\" class=\"data row8 col7\" >74</td>\n",
              "      <td id=\"T_ad2bf_row8_col8\" class=\"data row8 col8\" >29</td>\n",
              "      <td id=\"T_ad2bf_row8_col9\" class=\"data row8 col9\" >803</td>\n",
              "      <td id=\"T_ad2bf_row8_col10\" class=\"data row8 col10\" >18</td>\n",
              "      <td id=\"T_ad2bf_row8_col11\" class=\"data row8 col11\" >20</td>\n",
              "      <td id=\"T_ad2bf_row8_col12\" class=\"data row8 col12\" >345</td>\n",
              "      <td id=\"T_ad2bf_row8_col13\" class=\"data row8 col13\" >219</td>\n",
              "      <td id=\"T_ad2bf_row8_col14\" class=\"data row8 col14\" >911</td>\n",
              "      <td id=\"T_ad2bf_row8_col15\" class=\"data row8 col15\" >1340</td>\n",
              "      <td id=\"T_ad2bf_row8_col16\" class=\"data row8 col16\" >37</td>\n",
              "      <td id=\"T_ad2bf_row8_col17\" class=\"data row8 col17\" >6</td>\n",
              "      <td id=\"T_ad2bf_row8_col18\" class=\"data row8 col18\" >465</td>\n",
              "      <td id=\"T_ad2bf_row8_col19\" class=\"data row8 col19\" >1163</td>\n",
              "      <td id=\"T_ad2bf_row8_col20\" class=\"data row8 col20\" >488</td>\n",
              "      <td id=\"T_ad2bf_row8_col21\" class=\"data row8 col21\" >98</td>\n",
              "      <td id=\"T_ad2bf_row8_col22\" class=\"data row8 col22\" >87</td>\n",
              "      <td id=\"T_ad2bf_row8_col23\" class=\"data row8 col23\" >2</td>\n",
              "      <td id=\"T_ad2bf_row8_col24\" class=\"data row8 col24\" >3</td>\n",
              "      <td id=\"T_ad2bf_row8_col25\" class=\"data row8 col25\" >32</td>\n",
              "      <td id=\"T_ad2bf_row8_col26\" class=\"data row8 col26\" >114</td>\n",
              "      <td id=\"T_ad2bf_row8_col27\" class=\"data row8 col27\" >0</td>\n",
              "    </tr>\n",
              "    <tr>\n",
              "      <td id=\"T_ad2bf_row9_col0\" class=\"data row9 col0\" >10</td>\n",
              "      <td id=\"T_ad2bf_row9_col1\" class=\"data row9 col1\" >789</td>\n",
              "      <td id=\"T_ad2bf_row9_col2\" class=\"data row9 col2\" >87</td>\n",
              "      <td id=\"T_ad2bf_row9_col3\" class=\"data row9 col3\" >250</td>\n",
              "      <td id=\"T_ad2bf_row9_col4\" class=\"data row9 col4\" >474</td>\n",
              "      <td id=\"T_ad2bf_row9_col5\" class=\"data row9 col5\" >343</td>\n",
              "      <td id=\"T_ad2bf_row9_col6\" class=\"data row9 col6\" >16</td>\n",
              "      <td id=\"T_ad2bf_row9_col7\" class=\"data row9 col7\" >47</td>\n",
              "      <td id=\"T_ad2bf_row9_col8\" class=\"data row9 col8\" >17</td>\n",
              "      <td id=\"T_ad2bf_row9_col9\" class=\"data row9 col9\" >379</td>\n",
              "      <td id=\"T_ad2bf_row9_col10\" class=\"data row9 col10\" >3</td>\n",
              "      <td id=\"T_ad2bf_row9_col11\" class=\"data row9 col11\" >8</td>\n",
              "      <td id=\"T_ad2bf_row9_col12\" class=\"data row9 col12\" >235</td>\n",
              "      <td id=\"T_ad2bf_row9_col13\" class=\"data row9 col13\" >147</td>\n",
              "      <td id=\"T_ad2bf_row9_col14\" class=\"data row9 col14\" >628</td>\n",
              "      <td id=\"T_ad2bf_row9_col15\" class=\"data row9 col15\" >860</td>\n",
              "      <td id=\"T_ad2bf_row9_col16\" class=\"data row9 col16\" >14</td>\n",
              "      <td id=\"T_ad2bf_row9_col17\" class=\"data row9 col17\" >10</td>\n",
              "      <td id=\"T_ad2bf_row9_col18\" class=\"data row9 col18\" >226</td>\n",
              "      <td id=\"T_ad2bf_row9_col19\" class=\"data row9 col19\" >1036</td>\n",
              "      <td id=\"T_ad2bf_row9_col20\" class=\"data row9 col20\" >269</td>\n",
              "      <td id=\"T_ad2bf_row9_col21\" class=\"data row9 col21\" >55</td>\n",
              "      <td id=\"T_ad2bf_row9_col22\" class=\"data row9 col22\" >73</td>\n",
              "      <td id=\"T_ad2bf_row9_col23\" class=\"data row9 col23\" >2</td>\n",
              "      <td id=\"T_ad2bf_row9_col24\" class=\"data row9 col24\" >1</td>\n",
              "      <td id=\"T_ad2bf_row9_col25\" class=\"data row9 col25\" >12</td>\n",
              "      <td id=\"T_ad2bf_row9_col26\" class=\"data row9 col26\" >103</td>\n",
              "      <td id=\"T_ad2bf_row9_col27\" class=\"data row9 col27\" >2</td>\n",
              "    </tr>\n",
              "    <tr>\n",
              "      <td id=\"T_ad2bf_row10_col0\" class=\"data row10 col0\" >11</td>\n",
              "      <td id=\"T_ad2bf_row10_col1\" class=\"data row10 col1\" >405</td>\n",
              "      <td id=\"T_ad2bf_row10_col2\" class=\"data row10 col2\" >43</td>\n",
              "      <td id=\"T_ad2bf_row10_col3\" class=\"data row10 col3\" >154</td>\n",
              "      <td id=\"T_ad2bf_row10_col4\" class=\"data row10 col4\" >200</td>\n",
              "      <td id=\"T_ad2bf_row10_col5\" class=\"data row10 col5\" >219</td>\n",
              "      <td id=\"T_ad2bf_row10_col6\" class=\"data row10 col6\" >8</td>\n",
              "      <td id=\"T_ad2bf_row10_col7\" class=\"data row10 col7\" >25</td>\n",
              "      <td id=\"T_ad2bf_row10_col8\" class=\"data row10 col8\" >12</td>\n",
              "      <td id=\"T_ad2bf_row10_col9\" class=\"data row10 col9\" >162</td>\n",
              "      <td id=\"T_ad2bf_row10_col10\" class=\"data row10 col10\" >2</td>\n",
              "      <td id=\"T_ad2bf_row10_col11\" class=\"data row10 col11\" >4</td>\n",
              "      <td id=\"T_ad2bf_row10_col12\" class=\"data row10 col12\" >181</td>\n",
              "      <td id=\"T_ad2bf_row10_col13\" class=\"data row10 col13\" >93</td>\n",
              "      <td id=\"T_ad2bf_row10_col14\" class=\"data row10 col14\" >421</td>\n",
              "      <td id=\"T_ad2bf_row10_col15\" class=\"data row10 col15\" >538</td>\n",
              "      <td id=\"T_ad2bf_row10_col16\" class=\"data row10 col16\" >21</td>\n",
              "      <td id=\"T_ad2bf_row10_col17\" class=\"data row10 col17\" >1</td>\n",
              "      <td id=\"T_ad2bf_row10_col18\" class=\"data row10 col18\" >117</td>\n",
              "      <td id=\"T_ad2bf_row10_col19\" class=\"data row10 col19\" >696</td>\n",
              "      <td id=\"T_ad2bf_row10_col20\" class=\"data row10 col20\" >178</td>\n",
              "      <td id=\"T_ad2bf_row10_col21\" class=\"data row10 col21\" >28</td>\n",
              "      <td id=\"T_ad2bf_row10_col22\" class=\"data row10 col22\" >28</td>\n",
              "      <td id=\"T_ad2bf_row10_col23\" class=\"data row10 col23\" >0</td>\n",
              "      <td id=\"T_ad2bf_row10_col24\" class=\"data row10 col24\" >2</td>\n",
              "      <td id=\"T_ad2bf_row10_col25\" class=\"data row10 col25\" >7</td>\n",
              "      <td id=\"T_ad2bf_row10_col26\" class=\"data row10 col26\" >19</td>\n",
              "      <td id=\"T_ad2bf_row10_col27\" class=\"data row10 col27\" >0</td>\n",
              "    </tr>\n",
              "    <tr>\n",
              "      <td id=\"T_ad2bf_row11_col0\" class=\"data row11 col0\" >12</td>\n",
              "      <td id=\"T_ad2bf_row11_col1\" class=\"data row11 col1\" >188</td>\n",
              "      <td id=\"T_ad2bf_row11_col2\" class=\"data row11 col2\" >14</td>\n",
              "      <td id=\"T_ad2bf_row11_col3\" class=\"data row11 col3\" >55</td>\n",
              "      <td id=\"T_ad2bf_row11_col4\" class=\"data row11 col4\" >129</td>\n",
              "      <td id=\"T_ad2bf_row11_col5\" class=\"data row11 col5\" >148</td>\n",
              "      <td id=\"T_ad2bf_row11_col6\" class=\"data row11 col6\" >16</td>\n",
              "      <td id=\"T_ad2bf_row11_col7\" class=\"data row11 col7\" >9</td>\n",
              "      <td id=\"T_ad2bf_row11_col8\" class=\"data row11 col8\" >3</td>\n",
              "      <td id=\"T_ad2bf_row11_col9\" class=\"data row11 col9\" >96</td>\n",
              "      <td id=\"T_ad2bf_row11_col10\" class=\"data row11 col10\" >1</td>\n",
              "      <td id=\"T_ad2bf_row11_col11\" class=\"data row11 col11\" >1</td>\n",
              "      <td id=\"T_ad2bf_row11_col12\" class=\"data row11 col12\" >74</td>\n",
              "      <td id=\"T_ad2bf_row11_col13\" class=\"data row11 col13\" >61</td>\n",
              "      <td id=\"T_ad2bf_row11_col14\" class=\"data row11 col14\" >223</td>\n",
              "      <td id=\"T_ad2bf_row11_col15\" class=\"data row11 col15\" >284</td>\n",
              "      <td id=\"T_ad2bf_row11_col16\" class=\"data row11 col16\" >4</td>\n",
              "      <td id=\"T_ad2bf_row11_col17\" class=\"data row11 col17\" >0</td>\n",
              "      <td id=\"T_ad2bf_row11_col18\" class=\"data row11 col18\" >44</td>\n",
              "      <td id=\"T_ad2bf_row11_col19\" class=\"data row11 col19\" >447</td>\n",
              "      <td id=\"T_ad2bf_row11_col20\" class=\"data row11 col20\" >125</td>\n",
              "      <td id=\"T_ad2bf_row11_col21\" class=\"data row11 col21\" >10</td>\n",
              "      <td id=\"T_ad2bf_row11_col22\" class=\"data row11 col22\" >22</td>\n",
              "      <td id=\"T_ad2bf_row11_col23\" class=\"data row11 col23\" >1</td>\n",
              "      <td id=\"T_ad2bf_row11_col24\" class=\"data row11 col24\" >2</td>\n",
              "      <td id=\"T_ad2bf_row11_col25\" class=\"data row11 col25\" >2</td>\n",
              "      <td id=\"T_ad2bf_row11_col26\" class=\"data row11 col26\" >26</td>\n",
              "      <td id=\"T_ad2bf_row11_col27\" class=\"data row11 col27\" >0</td>\n",
              "    </tr>\n",
              "    <tr>\n",
              "      <td id=\"T_ad2bf_row12_col0\" class=\"data row12 col0\" >13</td>\n",
              "      <td id=\"T_ad2bf_row12_col1\" class=\"data row12 col1\" >67</td>\n",
              "      <td id=\"T_ad2bf_row12_col2\" class=\"data row12 col2\" >2</td>\n",
              "      <td id=\"T_ad2bf_row12_col3\" class=\"data row12 col3\" >32</td>\n",
              "      <td id=\"T_ad2bf_row12_col4\" class=\"data row12 col4\" >46</td>\n",
              "      <td id=\"T_ad2bf_row12_col5\" class=\"data row12 col5\" >81</td>\n",
              "      <td id=\"T_ad2bf_row12_col6\" class=\"data row12 col6\" >4</td>\n",
              "      <td id=\"T_ad2bf_row12_col7\" class=\"data row12 col7\" >7</td>\n",
              "      <td id=\"T_ad2bf_row12_col8\" class=\"data row12 col8\" >0</td>\n",
              "      <td id=\"T_ad2bf_row12_col9\" class=\"data row12 col9\" >32</td>\n",
              "      <td id=\"T_ad2bf_row12_col10\" class=\"data row12 col10\" >0</td>\n",
              "      <td id=\"T_ad2bf_row12_col11\" class=\"data row12 col11\" >2</td>\n",
              "      <td id=\"T_ad2bf_row12_col12\" class=\"data row12 col12\" >71</td>\n",
              "      <td id=\"T_ad2bf_row12_col13\" class=\"data row12 col13\" >21</td>\n",
              "      <td id=\"T_ad2bf_row12_col14\" class=\"data row12 col14\" >121</td>\n",
              "      <td id=\"T_ad2bf_row12_col15\" class=\"data row12 col15\" >201</td>\n",
              "      <td id=\"T_ad2bf_row12_col16\" class=\"data row12 col16\" >1</td>\n",
              "      <td id=\"T_ad2bf_row12_col17\" class=\"data row12 col17\" >1</td>\n",
              "      <td id=\"T_ad2bf_row12_col18\" class=\"data row12 col18\" >11</td>\n",
              "      <td id=\"T_ad2bf_row12_col19\" class=\"data row12 col19\" >227</td>\n",
              "      <td id=\"T_ad2bf_row12_col20\" class=\"data row12 col20\" >63</td>\n",
              "      <td id=\"T_ad2bf_row12_col21\" class=\"data row12 col21\" >5</td>\n",
              "      <td id=\"T_ad2bf_row12_col22\" class=\"data row12 col22\" >14</td>\n",
              "      <td id=\"T_ad2bf_row12_col23\" class=\"data row12 col23\" >0</td>\n",
              "      <td id=\"T_ad2bf_row12_col24\" class=\"data row12 col24\" >0</td>\n",
              "      <td id=\"T_ad2bf_row12_col25\" class=\"data row12 col25\" >0</td>\n",
              "      <td id=\"T_ad2bf_row12_col26\" class=\"data row12 col26\" >12</td>\n",
              "      <td id=\"T_ad2bf_row12_col27\" class=\"data row12 col27\" >3</td>\n",
              "    </tr>\n",
              "    <tr>\n",
              "      <td id=\"T_ad2bf_row13_col0\" class=\"data row13 col0\" >14</td>\n",
              "      <td id=\"T_ad2bf_row13_col1\" class=\"data row13 col1\" >29</td>\n",
              "      <td id=\"T_ad2bf_row13_col2\" class=\"data row13 col2\" >3</td>\n",
              "      <td id=\"T_ad2bf_row13_col3\" class=\"data row13 col3\" >25</td>\n",
              "      <td id=\"T_ad2bf_row13_col4\" class=\"data row13 col4\" >7</td>\n",
              "      <td id=\"T_ad2bf_row13_col5\" class=\"data row13 col5\" >30</td>\n",
              "      <td id=\"T_ad2bf_row13_col6\" class=\"data row13 col6\" >1</td>\n",
              "      <td id=\"T_ad2bf_row13_col7\" class=\"data row13 col7\" >3</td>\n",
              "      <td id=\"T_ad2bf_row13_col8\" class=\"data row13 col8\" >1</td>\n",
              "      <td id=\"T_ad2bf_row13_col9\" class=\"data row13 col9\" >13</td>\n",
              "      <td id=\"T_ad2bf_row13_col10\" class=\"data row13 col10\" >1</td>\n",
              "      <td id=\"T_ad2bf_row13_col11\" class=\"data row13 col11\" >1</td>\n",
              "      <td id=\"T_ad2bf_row13_col12\" class=\"data row13 col12\" >25</td>\n",
              "      <td id=\"T_ad2bf_row13_col13\" class=\"data row13 col13\" >13</td>\n",
              "      <td id=\"T_ad2bf_row13_col14\" class=\"data row13 col14\" >65</td>\n",
              "      <td id=\"T_ad2bf_row13_col15\" class=\"data row13 col15\" >82</td>\n",
              "      <td id=\"T_ad2bf_row13_col16\" class=\"data row13 col16\" >1</td>\n",
              "      <td id=\"T_ad2bf_row13_col17\" class=\"data row13 col17\" >1</td>\n",
              "      <td id=\"T_ad2bf_row13_col18\" class=\"data row13 col18\" >7</td>\n",
              "      <td id=\"T_ad2bf_row13_col19\" class=\"data row13 col19\" >139</td>\n",
              "      <td id=\"T_ad2bf_row13_col20\" class=\"data row13 col20\" >46</td>\n",
              "      <td id=\"T_ad2bf_row13_col21\" class=\"data row13 col21\" >3</td>\n",
              "      <td id=\"T_ad2bf_row13_col22\" class=\"data row13 col22\" >1</td>\n",
              "      <td id=\"T_ad2bf_row13_col23\" class=\"data row13 col23\" >0</td>\n",
              "      <td id=\"T_ad2bf_row13_col24\" class=\"data row13 col24\" >0</td>\n",
              "      <td id=\"T_ad2bf_row13_col25\" class=\"data row13 col25\" >1</td>\n",
              "      <td id=\"T_ad2bf_row13_col26\" class=\"data row13 col26\" >3</td>\n",
              "      <td id=\"T_ad2bf_row13_col27\" class=\"data row13 col27\" >0</td>\n",
              "    </tr>\n",
              "    <tr>\n",
              "      <td id=\"T_ad2bf_row14_col0\" class=\"data row14 col0\" >15</td>\n",
              "      <td id=\"T_ad2bf_row14_col1\" class=\"data row14 col1\" >28</td>\n",
              "      <td id=\"T_ad2bf_row14_col2\" class=\"data row14 col2\" >1</td>\n",
              "      <td id=\"T_ad2bf_row14_col3\" class=\"data row14 col3\" >6</td>\n",
              "      <td id=\"T_ad2bf_row14_col4\" class=\"data row14 col4\" >9</td>\n",
              "      <td id=\"T_ad2bf_row14_col5\" class=\"data row14 col5\" >18</td>\n",
              "      <td id=\"T_ad2bf_row14_col6\" class=\"data row14 col6\" >0</td>\n",
              "      <td id=\"T_ad2bf_row14_col7\" class=\"data row14 col7\" >1</td>\n",
              "      <td id=\"T_ad2bf_row14_col8\" class=\"data row14 col8\" >1</td>\n",
              "      <td id=\"T_ad2bf_row14_col9\" class=\"data row14 col9\" >6</td>\n",
              "      <td id=\"T_ad2bf_row14_col10\" class=\"data row14 col10\" >0</td>\n",
              "      <td id=\"T_ad2bf_row14_col11\" class=\"data row14 col11\" >0</td>\n",
              "      <td id=\"T_ad2bf_row14_col12\" class=\"data row14 col12\" >4</td>\n",
              "      <td id=\"T_ad2bf_row14_col13\" class=\"data row14 col13\" >14</td>\n",
              "      <td id=\"T_ad2bf_row14_col14\" class=\"data row14 col14\" >21</td>\n",
              "      <td id=\"T_ad2bf_row14_col15\" class=\"data row14 col15\" >32</td>\n",
              "      <td id=\"T_ad2bf_row14_col16\" class=\"data row14 col16\" >0</td>\n",
              "      <td id=\"T_ad2bf_row14_col17\" class=\"data row14 col17\" >0</td>\n",
              "      <td id=\"T_ad2bf_row14_col18\" class=\"data row14 col18\" >3</td>\n",
              "      <td id=\"T_ad2bf_row14_col19\" class=\"data row14 col19\" >81</td>\n",
              "      <td id=\"T_ad2bf_row14_col20\" class=\"data row14 col20\" >21</td>\n",
              "      <td id=\"T_ad2bf_row14_col21\" class=\"data row14 col21\" >0</td>\n",
              "      <td id=\"T_ad2bf_row14_col22\" class=\"data row14 col22\" >1</td>\n",
              "      <td id=\"T_ad2bf_row14_col23\" class=\"data row14 col23\" >0</td>\n",
              "      <td id=\"T_ad2bf_row14_col24\" class=\"data row14 col24\" >0</td>\n",
              "      <td id=\"T_ad2bf_row14_col25\" class=\"data row14 col25\" >0</td>\n",
              "      <td id=\"T_ad2bf_row14_col26\" class=\"data row14 col26\" >5</td>\n",
              "      <td id=\"T_ad2bf_row14_col27\" class=\"data row14 col27\" >0</td>\n",
              "    </tr>\n",
              "    <tr>\n",
              "      <td id=\"T_ad2bf_row15_col0\" class=\"data row15 col0\" >16</td>\n",
              "      <td id=\"T_ad2bf_row15_col1\" class=\"data row15 col1\" >9</td>\n",
              "      <td id=\"T_ad2bf_row15_col2\" class=\"data row15 col2\" >0</td>\n",
              "      <td id=\"T_ad2bf_row15_col3\" class=\"data row15 col3\" >0</td>\n",
              "      <td id=\"T_ad2bf_row15_col4\" class=\"data row15 col4\" >2</td>\n",
              "      <td id=\"T_ad2bf_row15_col5\" class=\"data row15 col5\" >7</td>\n",
              "      <td id=\"T_ad2bf_row15_col6\" class=\"data row15 col6\" >1</td>\n",
              "      <td id=\"T_ad2bf_row15_col7\" class=\"data row15 col7\" >1</td>\n",
              "      <td id=\"T_ad2bf_row15_col8\" class=\"data row15 col8\" >0</td>\n",
              "      <td id=\"T_ad2bf_row15_col9\" class=\"data row15 col9\" >1</td>\n",
              "      <td id=\"T_ad2bf_row15_col10\" class=\"data row15 col10\" >0</td>\n",
              "      <td id=\"T_ad2bf_row15_col11\" class=\"data row15 col11\" >0</td>\n",
              "      <td id=\"T_ad2bf_row15_col12\" class=\"data row15 col12\" >10</td>\n",
              "      <td id=\"T_ad2bf_row15_col13\" class=\"data row15 col13\" >3</td>\n",
              "      <td id=\"T_ad2bf_row15_col14\" class=\"data row15 col14\" >6</td>\n",
              "      <td id=\"T_ad2bf_row15_col15\" class=\"data row15 col15\" >12</td>\n",
              "      <td id=\"T_ad2bf_row15_col16\" class=\"data row15 col16\" >0</td>\n",
              "      <td id=\"T_ad2bf_row15_col17\" class=\"data row15 col17\" >0</td>\n",
              "      <td id=\"T_ad2bf_row15_col18\" class=\"data row15 col18\" >5</td>\n",
              "      <td id=\"T_ad2bf_row15_col19\" class=\"data row15 col19\" >29</td>\n",
              "      <td id=\"T_ad2bf_row15_col20\" class=\"data row15 col20\" >7</td>\n",
              "      <td id=\"T_ad2bf_row15_col21\" class=\"data row15 col21\" >1</td>\n",
              "      <td id=\"T_ad2bf_row15_col22\" class=\"data row15 col22\" >0</td>\n",
              "      <td id=\"T_ad2bf_row15_col23\" class=\"data row15 col23\" >0</td>\n",
              "      <td id=\"T_ad2bf_row15_col24\" class=\"data row15 col24\" >0</td>\n",
              "      <td id=\"T_ad2bf_row15_col25\" class=\"data row15 col25\" >0</td>\n",
              "      <td id=\"T_ad2bf_row15_col26\" class=\"data row15 col26\" >0</td>\n",
              "      <td id=\"T_ad2bf_row15_col27\" class=\"data row15 col27\" >0</td>\n",
              "    </tr>\n",
              "    <tr>\n",
              "      <td id=\"T_ad2bf_row16_col0\" class=\"data row16 col0\" >17</td>\n",
              "      <td id=\"T_ad2bf_row16_col1\" class=\"data row16 col1\" >0</td>\n",
              "      <td id=\"T_ad2bf_row16_col2\" class=\"data row16 col2\" >1</td>\n",
              "      <td id=\"T_ad2bf_row16_col3\" class=\"data row16 col3\" >0</td>\n",
              "      <td id=\"T_ad2bf_row16_col4\" class=\"data row16 col4\" >1</td>\n",
              "      <td id=\"T_ad2bf_row16_col5\" class=\"data row16 col5\" >1</td>\n",
              "      <td id=\"T_ad2bf_row16_col6\" class=\"data row16 col6\" >1</td>\n",
              "      <td id=\"T_ad2bf_row16_col7\" class=\"data row16 col7\" >0</td>\n",
              "      <td id=\"T_ad2bf_row16_col8\" class=\"data row16 col8\" >0</td>\n",
              "      <td id=\"T_ad2bf_row16_col9\" class=\"data row16 col9\" >1</td>\n",
              "      <td id=\"T_ad2bf_row16_col10\" class=\"data row16 col10\" >0</td>\n",
              "      <td id=\"T_ad2bf_row16_col11\" class=\"data row16 col11\" >0</td>\n",
              "      <td id=\"T_ad2bf_row16_col12\" class=\"data row16 col12\" >0</td>\n",
              "      <td id=\"T_ad2bf_row16_col13\" class=\"data row16 col13\" >3</td>\n",
              "      <td id=\"T_ad2bf_row16_col14\" class=\"data row16 col14\" >7</td>\n",
              "      <td id=\"T_ad2bf_row16_col15\" class=\"data row16 col15\" >2</td>\n",
              "      <td id=\"T_ad2bf_row16_col16\" class=\"data row16 col16\" >0</td>\n",
              "      <td id=\"T_ad2bf_row16_col17\" class=\"data row16 col17\" >0</td>\n",
              "      <td id=\"T_ad2bf_row16_col18\" class=\"data row16 col18\" >0</td>\n",
              "      <td id=\"T_ad2bf_row16_col19\" class=\"data row16 col19\" >9</td>\n",
              "      <td id=\"T_ad2bf_row16_col20\" class=\"data row16 col20\" >3</td>\n",
              "      <td id=\"T_ad2bf_row16_col21\" class=\"data row16 col21\" >1</td>\n",
              "      <td id=\"T_ad2bf_row16_col22\" class=\"data row16 col22\" >0</td>\n",
              "      <td id=\"T_ad2bf_row16_col23\" class=\"data row16 col23\" >0</td>\n",
              "      <td id=\"T_ad2bf_row16_col24\" class=\"data row16 col24\" >0</td>\n",
              "      <td id=\"T_ad2bf_row16_col25\" class=\"data row16 col25\" >0</td>\n",
              "      <td id=\"T_ad2bf_row16_col26\" class=\"data row16 col26\" >0</td>\n",
              "      <td id=\"T_ad2bf_row16_col27\" class=\"data row16 col27\" >0</td>\n",
              "    </tr>\n",
              "    <tr>\n",
              "      <td id=\"T_ad2bf_row17_col0\" class=\"data row17 col0\" >18</td>\n",
              "      <td id=\"T_ad2bf_row17_col1\" class=\"data row17 col1\" >0</td>\n",
              "      <td id=\"T_ad2bf_row17_col2\" class=\"data row17 col2\" >0</td>\n",
              "      <td id=\"T_ad2bf_row17_col3\" class=\"data row17 col3\" >0</td>\n",
              "      <td id=\"T_ad2bf_row17_col4\" class=\"data row17 col4\" >2</td>\n",
              "      <td id=\"T_ad2bf_row17_col5\" class=\"data row17 col5\" >1</td>\n",
              "      <td id=\"T_ad2bf_row17_col6\" class=\"data row17 col6\" >0</td>\n",
              "      <td id=\"T_ad2bf_row17_col7\" class=\"data row17 col7\" >0</td>\n",
              "      <td id=\"T_ad2bf_row17_col8\" class=\"data row17 col8\" >0</td>\n",
              "      <td id=\"T_ad2bf_row17_col9\" class=\"data row17 col9\" >1</td>\n",
              "      <td id=\"T_ad2bf_row17_col10\" class=\"data row17 col10\" >0</td>\n",
              "      <td id=\"T_ad2bf_row17_col11\" class=\"data row17 col11\" >0</td>\n",
              "      <td id=\"T_ad2bf_row17_col12\" class=\"data row17 col12\" >2</td>\n",
              "      <td id=\"T_ad2bf_row17_col13\" class=\"data row17 col13\" >1</td>\n",
              "      <td id=\"T_ad2bf_row17_col14\" class=\"data row17 col14\" >1</td>\n",
              "      <td id=\"T_ad2bf_row17_col15\" class=\"data row17 col15\" >2</td>\n",
              "      <td id=\"T_ad2bf_row17_col16\" class=\"data row17 col16\" >1</td>\n",
              "      <td id=\"T_ad2bf_row17_col17\" class=\"data row17 col17\" >0</td>\n",
              "      <td id=\"T_ad2bf_row17_col18\" class=\"data row17 col18\" >0</td>\n",
              "      <td id=\"T_ad2bf_row17_col19\" class=\"data row17 col19\" >4</td>\n",
              "      <td id=\"T_ad2bf_row17_col20\" class=\"data row17 col20\" >2</td>\n",
              "      <td id=\"T_ad2bf_row17_col21\" class=\"data row17 col21\" >0</td>\n",
              "      <td id=\"T_ad2bf_row17_col22\" class=\"data row17 col22\" >0</td>\n",
              "      <td id=\"T_ad2bf_row17_col23\" class=\"data row17 col23\" >0</td>\n",
              "      <td id=\"T_ad2bf_row17_col24\" class=\"data row17 col24\" >0</td>\n",
              "      <td id=\"T_ad2bf_row17_col25\" class=\"data row17 col25\" >0</td>\n",
              "      <td id=\"T_ad2bf_row17_col26\" class=\"data row17 col26\" >0</td>\n",
              "      <td id=\"T_ad2bf_row17_col27\" class=\"data row17 col27\" >0</td>\n",
              "    </tr>\n",
              "    <tr>\n",
              "      <td id=\"T_ad2bf_row18_col0\" class=\"data row18 col0\" >19</td>\n",
              "      <td id=\"T_ad2bf_row18_col1\" class=\"data row18 col1\" >0</td>\n",
              "      <td id=\"T_ad2bf_row18_col2\" class=\"data row18 col2\" >0</td>\n",
              "      <td id=\"T_ad2bf_row18_col3\" class=\"data row18 col3\" >0</td>\n",
              "      <td id=\"T_ad2bf_row18_col4\" class=\"data row18 col4\" >0</td>\n",
              "      <td id=\"T_ad2bf_row18_col5\" class=\"data row18 col5\" >0</td>\n",
              "      <td id=\"T_ad2bf_row18_col6\" class=\"data row18 col6\" >0</td>\n",
              "      <td id=\"T_ad2bf_row18_col7\" class=\"data row18 col7\" >0</td>\n",
              "      <td id=\"T_ad2bf_row18_col8\" class=\"data row18 col8\" >0</td>\n",
              "      <td id=\"T_ad2bf_row18_col9\" class=\"data row18 col9\" >0</td>\n",
              "      <td id=\"T_ad2bf_row18_col10\" class=\"data row18 col10\" >0</td>\n",
              "      <td id=\"T_ad2bf_row18_col11\" class=\"data row18 col11\" >0</td>\n",
              "      <td id=\"T_ad2bf_row18_col12\" class=\"data row18 col12\" >0</td>\n",
              "      <td id=\"T_ad2bf_row18_col13\" class=\"data row18 col13\" >1</td>\n",
              "      <td id=\"T_ad2bf_row18_col14\" class=\"data row18 col14\" >0</td>\n",
              "      <td id=\"T_ad2bf_row18_col15\" class=\"data row18 col15\" >0</td>\n",
              "      <td id=\"T_ad2bf_row18_col16\" class=\"data row18 col16\" >0</td>\n",
              "      <td id=\"T_ad2bf_row18_col17\" class=\"data row18 col17\" >0</td>\n",
              "      <td id=\"T_ad2bf_row18_col18\" class=\"data row18 col18\" >0</td>\n",
              "      <td id=\"T_ad2bf_row18_col19\" class=\"data row18 col19\" >0</td>\n",
              "      <td id=\"T_ad2bf_row18_col20\" class=\"data row18 col20\" >0</td>\n",
              "      <td id=\"T_ad2bf_row18_col21\" class=\"data row18 col21\" >0</td>\n",
              "      <td id=\"T_ad2bf_row18_col22\" class=\"data row18 col22\" >0</td>\n",
              "      <td id=\"T_ad2bf_row18_col23\" class=\"data row18 col23\" >0</td>\n",
              "      <td id=\"T_ad2bf_row18_col24\" class=\"data row18 col24\" >0</td>\n",
              "      <td id=\"T_ad2bf_row18_col25\" class=\"data row18 col25\" >0</td>\n",
              "      <td id=\"T_ad2bf_row18_col26\" class=\"data row18 col26\" >0</td>\n",
              "      <td id=\"T_ad2bf_row18_col27\" class=\"data row18 col27\" >0</td>\n",
              "    </tr>\n",
              "    <tr>\n",
              "      <td id=\"T_ad2bf_row19_col0\" class=\"data row19 col0\" >20</td>\n",
              "      <td id=\"T_ad2bf_row19_col1\" class=\"data row19 col1\" >0</td>\n",
              "      <td id=\"T_ad2bf_row19_col2\" class=\"data row19 col2\" >0</td>\n",
              "      <td id=\"T_ad2bf_row19_col3\" class=\"data row19 col3\" >0</td>\n",
              "      <td id=\"T_ad2bf_row19_col4\" class=\"data row19 col4\" >0</td>\n",
              "      <td id=\"T_ad2bf_row19_col5\" class=\"data row19 col5\" >0</td>\n",
              "      <td id=\"T_ad2bf_row19_col6\" class=\"data row19 col6\" >0</td>\n",
              "      <td id=\"T_ad2bf_row19_col7\" class=\"data row19 col7\" >0</td>\n",
              "      <td id=\"T_ad2bf_row19_col8\" class=\"data row19 col8\" >0</td>\n",
              "      <td id=\"T_ad2bf_row19_col9\" class=\"data row19 col9\" >0</td>\n",
              "      <td id=\"T_ad2bf_row19_col10\" class=\"data row19 col10\" >0</td>\n",
              "      <td id=\"T_ad2bf_row19_col11\" class=\"data row19 col11\" >0</td>\n",
              "      <td id=\"T_ad2bf_row19_col12\" class=\"data row19 col12\" >1</td>\n",
              "      <td id=\"T_ad2bf_row19_col13\" class=\"data row19 col13\" >1</td>\n",
              "      <td id=\"T_ad2bf_row19_col14\" class=\"data row19 col14\" >0</td>\n",
              "      <td id=\"T_ad2bf_row19_col15\" class=\"data row19 col15\" >0</td>\n",
              "      <td id=\"T_ad2bf_row19_col16\" class=\"data row19 col16\" >0</td>\n",
              "      <td id=\"T_ad2bf_row19_col17\" class=\"data row19 col17\" >0</td>\n",
              "      <td id=\"T_ad2bf_row19_col18\" class=\"data row19 col18\" >0</td>\n",
              "      <td id=\"T_ad2bf_row19_col19\" class=\"data row19 col19\" >0</td>\n",
              "      <td id=\"T_ad2bf_row19_col20\" class=\"data row19 col20\" >0</td>\n",
              "      <td id=\"T_ad2bf_row19_col21\" class=\"data row19 col21\" >0</td>\n",
              "      <td id=\"T_ad2bf_row19_col22\" class=\"data row19 col22\" >0</td>\n",
              "      <td id=\"T_ad2bf_row19_col23\" class=\"data row19 col23\" >0</td>\n",
              "      <td id=\"T_ad2bf_row19_col24\" class=\"data row19 col24\" >0</td>\n",
              "      <td id=\"T_ad2bf_row19_col25\" class=\"data row19 col25\" >0</td>\n",
              "      <td id=\"T_ad2bf_row19_col26\" class=\"data row19 col26\" >0</td>\n",
              "      <td id=\"T_ad2bf_row19_col27\" class=\"data row19 col27\" >0</td>\n",
              "    </tr>\n",
              "  </tbody>\n",
              "</table>\n"
            ]
          },
          "metadata": {},
          "execution_count": 123
        }
      ]
    },
    {
      "cell_type": "markdown",
      "source": [
        "Frecuencia de longitud de palabras\n",
        "\n",
        "---\n",
        "\n"
      ],
      "metadata": {
        "id": "pM5u6LQOONR8"
      }
    },
    {
      "cell_type": "code",
      "source": [
        "words_len_frec_list=[]\n",
        "words_len_indexes=[]\n",
        "for lenght in range(4,21):\n",
        "  words_len_indexes.append(lenght)\n",
        "  words_len_frec_list.append(words_len_list.count(lenght))\n",
        "\n",
        "words_len_frec_dict={\"char_len\": words_len_indexes,\n",
        "                     \"lenght_frec\": words_len_frec_list}\n",
        "\n",
        "words_len_frec_df=pd.DataFrame(words_len_frec_dict)\n",
        "words_len_frec_df.style.hide_index()"
      ],
      "metadata": {
        "colab": {
          "base_uri": "https://localhost:8080/",
          "height": 582
        },
        "id": "O7xnQYPLLV0M",
        "outputId": "f17dc6f9-ae0f-4130-dd83-e010bd49635c"
      },
      "execution_count": 120,
      "outputs": [
        {
          "output_type": "execute_result",
          "data": {
            "text/plain": [
              "<pandas.io.formats.style.Styler at 0x7f16cf9b8e10>"
            ],
            "text/html": [
              "<style type=\"text/css\">\n",
              "</style>\n",
              "<table id=\"T_54217_\" class=\"dataframe\">\n",
              "  <thead>\n",
              "    <tr>\n",
              "      <th class=\"col_heading level0 col0\" >char_len</th>\n",
              "      <th class=\"col_heading level0 col1\" >lenght_frec</th>\n",
              "    </tr>\n",
              "  </thead>\n",
              "  <tbody>\n",
              "    <tr>\n",
              "      <td id=\"T_54217_row0_col0\" class=\"data row0 col0\" >4</td>\n",
              "      <td id=\"T_54217_row0_col1\" class=\"data row0 col1\" >1374</td>\n",
              "    </tr>\n",
              "    <tr>\n",
              "      <td id=\"T_54217_row1_col0\" class=\"data row1 col0\" >5</td>\n",
              "      <td id=\"T_54217_row1_col1\" class=\"data row1 col1\" >2778</td>\n",
              "    </tr>\n",
              "    <tr>\n",
              "      <td id=\"T_54217_row2_col0\" class=\"data row2 col0\" >6</td>\n",
              "      <td id=\"T_54217_row2_col1\" class=\"data row2 col1\" >3705</td>\n",
              "    </tr>\n",
              "    <tr>\n",
              "      <td id=\"T_54217_row3_col0\" class=\"data row3 col0\" >7</td>\n",
              "      <td id=\"T_54217_row3_col1\" class=\"data row3 col1\" >4706</td>\n",
              "    </tr>\n",
              "    <tr>\n",
              "      <td id=\"T_54217_row4_col0\" class=\"data row4 col0\" >8</td>\n",
              "      <td id=\"T_54217_row4_col1\" class=\"data row4 col1\" >4879</td>\n",
              "    </tr>\n",
              "    <tr>\n",
              "      <td id=\"T_54217_row5_col0\" class=\"data row5 col0\" >9</td>\n",
              "      <td id=\"T_54217_row5_col1\" class=\"data row5 col1\" >4539</td>\n",
              "    </tr>\n",
              "    <tr>\n",
              "      <td id=\"T_54217_row6_col0\" class=\"data row6 col0\" >10</td>\n",
              "      <td id=\"T_54217_row6_col1\" class=\"data row6 col1\" >3826</td>\n",
              "    </tr>\n",
              "    <tr>\n",
              "      <td id=\"T_54217_row7_col0\" class=\"data row7 col0\" >11</td>\n",
              "      <td id=\"T_54217_row7_col1\" class=\"data row7 col1\" >2669</td>\n",
              "    </tr>\n",
              "    <tr>\n",
              "      <td id=\"T_54217_row8_col0\" class=\"data row8 col0\" >12</td>\n",
              "      <td id=\"T_54217_row8_col1\" class=\"data row8 col1\" >1770</td>\n",
              "    </tr>\n",
              "    <tr>\n",
              "      <td id=\"T_54217_row9_col0\" class=\"data row9 col0\" >13</td>\n",
              "      <td id=\"T_54217_row9_col1\" class=\"data row9 col1\" >1099</td>\n",
              "    </tr>\n",
              "    <tr>\n",
              "      <td id=\"T_54217_row10_col0\" class=\"data row10 col0\" >14</td>\n",
              "      <td id=\"T_54217_row10_col1\" class=\"data row10 col1\" >613</td>\n",
              "    </tr>\n",
              "    <tr>\n",
              "      <td id=\"T_54217_row11_col0\" class=\"data row11 col0\" >15</td>\n",
              "      <td id=\"T_54217_row11_col1\" class=\"data row11 col1\" >354</td>\n",
              "    </tr>\n",
              "    <tr>\n",
              "      <td id=\"T_54217_row12_col0\" class=\"data row12 col0\" >16</td>\n",
              "      <td id=\"T_54217_row12_col1\" class=\"data row12 col1\" >184</td>\n",
              "    </tr>\n",
              "    <tr>\n",
              "      <td id=\"T_54217_row13_col0\" class=\"data row13 col0\" >17</td>\n",
              "      <td id=\"T_54217_row13_col1\" class=\"data row13 col1\" >76</td>\n",
              "    </tr>\n",
              "    <tr>\n",
              "      <td id=\"T_54217_row14_col0\" class=\"data row14 col0\" >18</td>\n",
              "      <td id=\"T_54217_row14_col1\" class=\"data row14 col1\" >36</td>\n",
              "    </tr>\n",
              "    <tr>\n",
              "      <td id=\"T_54217_row15_col0\" class=\"data row15 col0\" >19</td>\n",
              "      <td id=\"T_54217_row15_col1\" class=\"data row15 col1\" >16</td>\n",
              "    </tr>\n",
              "    <tr>\n",
              "      <td id=\"T_54217_row16_col0\" class=\"data row16 col0\" >20</td>\n",
              "      <td id=\"T_54217_row16_col1\" class=\"data row16 col1\" >6</td>\n",
              "    </tr>\n",
              "  </tbody>\n",
              "</table>\n"
            ]
          },
          "metadata": {},
          "execution_count": 120
        }
      ]
    },
    {
      "cell_type": "code",
      "source": [
        "import seaborn as sns\n",
        "\n",
        "sns.barplot(data=words_len_frec_df,x='char_len',y='lenght_frec')"
      ],
      "metadata": {
        "colab": {
          "base_uri": "https://localhost:8080/",
          "height": 297
        },
        "id": "FbxOY_HoU8S7",
        "outputId": "664dd009-c207-458d-ce23-ddbb8ef391be"
      },
      "execution_count": 114,
      "outputs": [
        {
          "output_type": "execute_result",
          "data": {
            "text/plain": [
              "<matplotlib.axes._subplots.AxesSubplot at 0x7f16cff17cd0>"
            ]
          },
          "metadata": {},
          "execution_count": 114
        },
        {
          "output_type": "display_data",
          "data": {
            "text/plain": [
              "<Figure size 432x288 with 1 Axes>"
            ],
            "image/png": "[encoded data removed]"
          },
          "metadata": {
            "needs_background": "light"
          }
        }
      ]
    },
    {
      "cell_type": "code",
      "source": [
        "import matplotlib.pyplot as plt\n",
        "\n",
        "for letter in letters_list:\n",
        "  sns.barplot(data=letters_pos_frec_df,x=\"pos\", y=letter)\n",
        "  plt.show()"
      ],
      "metadata": {
        "colab": {
          "base_uri": "https://localhost:8080/",
          "height": 1000
        },
        "id": "78Jog9j4bMAe",
        "outputId": "c4bab2e4-ed78-43c3-91b4-2fe559077835"
      },
      "execution_count": 126,
      "outputs": [
        {
          "output_type": "display_data",
          "data": {
            "text/plain": [
              "<Figure size 432x288 with 1 Axes>"
            ],
            "image/png": "[encoded data removed]"
          },
          "metadata": {
            "needs_background": "light"
          }
        },
        {
          "output_type": "display_data",
          "data": {
            "text/plain": [
              "<Figure size 432x288 with 1 Axes>"
            ],
            "image/png": "[encoded data removed]"
          },
          "metadata": {
            "needs_background": "light"
          }
        },
        {
          "output_type": "display_data",
          "data": {
            "text/plain": [
              "<Figure size 432x288 with 1 Axes>"
            ],
            "image/png": "[encoded data removed]"
          },
          "metadata": {
            "needs_background": "light"
          }
        },
        {
          "output_type": "display_data",
          "data": {
            "text/plain": [
              "<Figure size 432x288 with 1 Axes>"
            ],
            "image/png": "[encoded data removed]"
          },
          "metadata": {
            "needs_background": "light"
          }
        },
        {
          "output_type": "display_data",
          "data": {
            "text/plain": [
              "<Figure size 432x288 with 1 Axes>"
            ],
            "image/png": "[encoded data removed]"
          },
          "metadata": {
            "needs_background": "light"
          }
        },
        {
          "output_type": "display_data",
          "data": {
            "text/plain": [
              "<Figure size 432x288 with 1 Axes>"
            ],
            "image/png": "[encoded data removed]"
          },
          "metadata": {
            "needs_background": "light"
          }
        },
        {
          "output_type": "display_data",
          "data": {
            "text/plain": [
              "<Figure size 432x288 with 1 Axes>"
            ],
            "image/png": "[encoded data removed]"
          },
          "metadata": {
            "needs_background": "light"
          }
        },
        {
          "output_type": "display_data",
          "data": {
            "text/plain": [
              "<Figure size 432x288 with 1 Axes>"
            ],
            "image/png": "[encoded data removed]"
          },
          "metadata": {
            "needs_background": "light"
          }
        },
        {
          "output_type": "display_data",
          "data": {
            "text/plain": [
              "<Figure size 432x288 with 1 Axes>"
            ],
            "image/png": "[encoded data removed]"
          },
          "metadata": {
            "needs_background": "light"
          }
        },
        {
          "output_type": "display_data",
          "data": {
            "text/plain": [
              "<Figure size 432x288 with 1 Axes>"
            ],
            "image/png": "[encoded data removed]"
          },
          "metadata": {
            "needs_background": "light"
          }
        },
        {
          "output_type": "display_data",
          "data": {
            "text/plain": [
              "<Figure size 432x288 with 1 Axes>"
            ],
            "image/png": "[encoded data removed]"
          },
          "metadata": {
            "needs_background": "light"
          }
        },
        {
          "output_type": "display_data",
          "data": {
            "text/plain": [
              "<Figure size 432x288 with 1 Axes>"
            ],
            "image/png": "[encoded data removed]"
          },
          "metadata": {
            "needs_background": "light"
          }
        },
        {
          "output_type": "display_data",
          "data": {
            "text/plain": [
              "<Figure size 432x288 with 1 Axes>"
            ],
            "image/png": "[encoded data removed]"
          },
          "metadata": {
            "needs_background": "light"
          }
        },
        {
          "output_type": "display_data",
          "data": {
            "text/plain": [
              "<Figure size 432x288 with 1 Axes>"
            ],
            "image/png": "[encoded data removed]"
          },
          "metadata": {
            "needs_background": "light"
          }
        },
        {
          "output_type": "display_data",
          "data": {
            "text/plain": [
              "<Figure size 432x288 with 1 Axes>"
            ],
            "image/png": "[encoded data removed]"
          },
          "metadata": {
            "needs_background": "light"
          }
        },
        {
          "output_type": "display_data",
          "data": {
            "text/plain": [
              "<Figure size 432x288 with 1 Axes>"
            ],
            "image/png": "[encoded data removed]"
          },
          "metadata": {
            "needs_background": "light"
          }
        },
        {
          "output_type": "display_data",
          "data": {
            "text/plain": [
              "<Figure size 432x288 with 1 Axes>"
            ],
            "image/png": "[encoded data removed]"
          },
          "metadata": {
            "needs_background": "light"
          }
        },
        {
          "output_type": "display_data",
          "data": {
            "text/plain": [
              "<Figure size 432x288 with 1 Axes>"
            ],
            "image/png": "[encoded data removed]"
          },
          "metadata": {
            "needs_background": "light"
          }
        },
        {
          "output_type": "display_data",
          "data": {
            "text/plain": [
              "<Figure size 432x288 with 1 Axes>"
            ],
            "image/png": "[encoded data removed]"
          },
          "metadata": {
            "needs_background": "light"
          }
        },
        {
          "output_type": "display_data",
          "data": {
            "text/plain": [
              "<Figure size 432x288 with 1 Axes>"
            ],
            "image/png": "[encoded data removed]"
          },
          "metadata": {
            "needs_background": "light"
          }
        },
        {
          "output_type": "display_data",
          "data": {
            "text/plain": [
              "<Figure size 432x288 with 1 Axes>"
            ],
            "image/png": "[encoded data removed]"
          },
          "metadata": {
            "needs_background": "light"
          }
        },
        {
          "output_type": "display_data",
          "data": {
            "text/plain": [
              "<Figure size 432x288 with 1 Axes>"
            ],
            "image/png": "[encoded data removed]"
          },
          "metadata": {
            "needs_background": "light"
          }
        },
        {
          "output_type": "display_data",
          "data": {
            "text/plain": [
              "<Figure size 432x288 with 1 Axes>"
            ],
            "image/png": "[encoded data removed]"
          },
          "metadata": {
            "needs_background": "light"
          }
        },
        {
          "output_type": "display_data",
          "data": {
            "text/plain": [
              "<Figure size 432x288 with 1 Axes>"
            ],
            "image/png": "[encoded data removed]"
          },
          "metadata": {
            "needs_background": "light"
          }
        },
        {
          "output_type": "display_data",
          "data": {
            "text/plain": [
              "<Figure size 432x288 with 1 Axes>"
            ],
            "image/png": "[encoded data removed]"
          },
          "metadata": {
            "needs_background": "light"
          }
        },
        {
          "output_type": "display_data",
          "data": {
            "text/plain": [
              "<Figure size 432x288 with 1 Axes>"
            ],
            "image/png": "[encoded data removed]"
          },
          "metadata": {
            "needs_background": "light"
          }
        },
        {
          "output_type": "display_data",
          "data": {
            "text/plain": [
              "<Figure size 432x288 with 1 Axes>"
            ],
            "image/png": "[encoded data removed]"
          },
          "metadata": {
            "needs_background": "light"
          }
        }
      ]
    }
  ]
}